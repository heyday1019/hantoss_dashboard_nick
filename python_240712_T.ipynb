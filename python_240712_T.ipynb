{
 "cells": [
  {
   "cell_type": "markdown",
   "id": "90786fa4-b1d7-43cb-b13c-7be0a0928219",
   "metadata": {},
   "source": [
    "# DB연동\n",
    "- DB연동하는 것은 에러가 없어야 함\n",
    "- 해당 코드는 무조건 돌아가게끔 만들어야 함\n",
    "- MySQL에 문제가 생김\n",
    "    + 대처방안 : try-catch 구문"
   ]
  },
  {
   "cell_type": "code",
   "execution_count": 6,
   "id": "e800a758-9953-4788-8ac9-e42512f85194",
   "metadata": {},
   "outputs": [
    {
     "ename": "ZeroDivisionError",
     "evalue": "division by zero",
     "output_type": "error",
     "traceback": [
      "\u001b[1;31m---------------------------------------------------------------------------\u001b[0m",
      "\u001b[1;31mZeroDivisionError\u001b[0m                         Traceback (most recent call last)",
      "Cell \u001b[1;32mIn[6], line 4\u001b[0m\n\u001b[0;32m      1\u001b[0m numerator \u001b[38;5;241m=\u001b[39m \u001b[38;5;241m10\u001b[39m \n\u001b[0;32m      2\u001b[0m denominator \u001b[38;5;241m=\u001b[39m \u001b[38;5;241m0\u001b[39m\n\u001b[1;32m----> 4\u001b[0m result \u001b[38;5;241m=\u001b[39m \u001b[43mnumerator\u001b[49m\u001b[43m \u001b[49m\u001b[38;5;241;43m/\u001b[39;49m\u001b[43m \u001b[49m\u001b[43mdenominator\u001b[49m\n\u001b[0;32m      6\u001b[0m \u001b[38;5;66;03m# 하고 싶은 것은 결과 확인 출력을 꼭 하고 싶음, 어떤 일이 있어도\u001b[39;00m\n\u001b[0;32m      7\u001b[0m \u001b[38;5;28mprint\u001b[39m(\u001b[38;5;124m\"\u001b[39m\u001b[38;5;124m결과 확인\u001b[39m\u001b[38;5;124m\"\u001b[39m)\n",
      "\u001b[1;31mZeroDivisionError\u001b[0m: division by zero"
     ]
    }
   ],
   "source": [
    "numerator = 10 \n",
    "denominator = 0\n",
    "\n",
    "result = numerator / denominator\n",
    "\n",
    "# 하고 싶은 것은 결과 확인 출력을 꼭 하고 싶음, 어떤 일이 있어도\n",
    "print(\"결과 확인\")"
   ]
  },
  {
   "cell_type": "code",
   "execution_count": 10,
   "id": "dffdde80-4862-4025-9fc2-dcc99409efea",
   "metadata": {},
   "outputs": [
    {
     "name": "stdout",
     "output_type": "stream",
     "text": [
      "Error: 0으로 나눌 수 없음\n",
      "결과 확인\n"
     ]
    }
   ],
   "source": [
    "try : \n",
    "    numerator = 10 \n",
    "    denominator = 0\n",
    "    result = numerator / denominator\n",
    "except ZeroDivisionError:\n",
    "    print(\"Error: 0으로 나눌 수 없음\")\n",
    "else:\n",
    "    print(\"결과확인 : \", result)\n",
    "finally:\n",
    "    print(\"결과 확인\")"
   ]
  },
  {
   "cell_type": "code",
   "execution_count": 14,
   "id": "b3ace381-1d17-45d5-a59a-811a5f4ac072",
   "metadata": {},
   "outputs": [
    {
     "name": "stdin",
     "output_type": "stream",
     "text": [
      "숫자를 입력하세요!! aaa\n"
     ]
    },
    {
     "name": "stdout",
     "output_type": "stream",
     "text": [
      "invalid literal for int() with\n",
      "결과 확인\n"
     ]
    }
   ],
   "source": [
    "try : \n",
    "    numerator = 10 \n",
    "    denominator = int(input(\"숫자를 입력하세요!!\"))\n",
    "    result = numerator / denominator\n",
    "except ZeroDivisionError:\n",
    "    print(\"Error: 0으로 나눌 수 없음\")\n",
    "except ValueError:\n",
    "    print(\"invalid literal for int() with\")\n",
    "else:\n",
    "    print(\"결과확인 : \", result)\n",
    "finally:\n",
    "    print(\"결과 확인\")"
   ]
  },
  {
   "cell_type": "markdown",
   "id": "8231ab77-7a93-4ba1-bb8d-017b0ca71d38",
   "metadata": {},
   "source": [
    "# Step 1. Connect to Server"
   ]
  },
  {
   "cell_type": "code",
   "execution_count": 16,
   "id": "7494eb8d-901b-4576-b693-87eebef98689",
   "metadata": {},
   "outputs": [],
   "source": [
    "import os \n",
    "from mysql import connector\n",
    "\n",
    "PASSWORD = '1234'"
   ]
  },
  {
   "cell_type": "markdown",
   "id": "1acfd337-4e99-49fe-9382-f5856b6ff500",
   "metadata": {},
   "source": [
    "- 기초문법 중급 레벨 (with vs python decorator)"
   ]
  },
  {
   "cell_type": "code",
   "execution_count": 17,
   "id": "e0ba706b-54b5-4c5d-b11a-68f91f7fcfa1",
   "metadata": {},
   "outputs": [
    {
     "name": "stdout",
     "output_type": "stream",
     "text": [
      "Database 객체 : <mysql.connector.connection_cext.CMySQLConnection object at 0x000002A719A779D0>\n"
     ]
    }
   ],
   "source": [
    "try:\n",
    "    with connector.connect(\n",
    "        host = 'localhost', \n",
    "        user = 'root', \n",
    "        password = PASSWORD\n",
    "    ) as database:\n",
    "        print(f\"Database 객체 : {database}\")\n",
    "except connector.Error as e:\n",
    "    print(e)"
   ]
  },
  {
   "cell_type": "markdown",
   "id": "ef9b4957-a3ea-4925-b172-74e7bede482a",
   "metadata": {},
   "source": [
    "## Step 2. Creating New DB"
   ]
  },
  {
   "cell_type": "code",
   "execution_count": 21,
   "id": "35ffd098-65e9-4d5f-ac31-d2e55351cbd0",
   "metadata": {},
   "outputs": [
    {
     "name": "stdout",
     "output_type": "stream",
     "text": [
      "Database 객체 : <mysql.connector.connection_cext.CMySQLConnection object at 0x000002A719A89790>\n",
      "('book_ratings',)\n",
      "('classicmodels',)\n",
      "('information_schema',)\n",
      "('instacart',)\n",
      "('mydata',)\n",
      "('mysql',)\n",
      "('performance_schema',)\n",
      "('sakila',)\n",
      "('sys',)\n",
      "('testdb',)\n",
      "('titanic',)\n",
      "('world',)\n"
     ]
    }
   ],
   "source": [
    "try:\n",
    "    with connector.connect(\n",
    "        host = 'localhost', \n",
    "        user = 'root', \n",
    "        password = PASSWORD\n",
    "    ) as database:\n",
    "        print(f\"Database 객체 : {database}\")\n",
    "        \n",
    "        with database.cursor() as cursor:\n",
    "            # 쿼리문 작성\n",
    "            # create_db = \"CREATE DATABASE book_ratings;\"\n",
    "            # cursor.execute(create_db)\n",
    "\n",
    "            # 생성된 DB 확인 쿼리문 쓰기\n",
    "            show_existing_db = \"SHOW DATABASES;\"\n",
    "            cursor.execute(show_existing_db)\n",
    "            for db in cursor:\n",
    "                print(db)\n",
    "\n",
    "except connector.Error as e:\n",
    "    print(e)"
   ]
  },
  {
   "cell_type": "markdown",
   "id": "c3249867-1864-4ef6-b9a9-13dff7d5af9d",
   "metadata": {},
   "source": [
    "- 특정 DB에 직접 연결하겠습니다! "
   ]
  },
  {
   "cell_type": "code",
   "execution_count": 22,
   "id": "d925006b-638f-4acf-9ec8-7f00d2c1eab6",
   "metadata": {},
   "outputs": [
    {
     "name": "stdout",
     "output_type": "stream",
     "text": [
      "Database 객체 : <mysql.connector.connection_cext.CMySQLConnection object at 0x000002A719A88A10>\n"
     ]
    }
   ],
   "source": [
    "try:\n",
    "    with connector.connect(\n",
    "        host = 'localhost', \n",
    "        user = 'root', \n",
    "        password = PASSWORD, \n",
    "        database = \"book_ratings\" # 이것이 기존 코드와의 차이점\n",
    "    ) as database:\n",
    "        print(f\"Database 객체 : {database}\")\n",
    "except connector.Error as e:\n",
    "    print(e)"
   ]
  },
  {
   "cell_type": "markdown",
   "id": "8586c9bb-bfce-4a72-93fb-3a44efd8b9c0",
   "metadata": {},
   "source": [
    "#  Step 3. Creating Tables"
   ]
  },
  {
   "cell_type": "code",
   "execution_count": 23,
   "id": "e1ec6a71-1e48-4cb6-81e4-945719e6701c",
   "metadata": {},
   "outputs": [
    {
     "name": "stdout",
     "output_type": "stream",
     "text": [
      "Database 객체 : <mysql.connector.connection_cext.CMySQLConnection object at 0x000002A719A8A7D0>\n",
      "('id', 'int', 'NO', 'PRI', None, 'auto_increment')\n",
      "('title', 'varchar(100)', 'YES', '', None, '')\n",
      "('author', 'varchar(100)', 'YES', '', None, '')\n",
      "('genre', 'varchar(100)', 'YES', '', None, '')\n",
      "('release_year', 'year', 'YES', '', None, '')\n"
     ]
    }
   ],
   "source": [
    "create_books_table = \"\"\"\n",
    "    CREATE TABLE books(\n",
    "        id INT NOT NULL AUTO_INCREMENT PRIMARY KEY,\n",
    "        title VARCHAR(100),\n",
    "        author VARCHAR(100),\n",
    "        genre VARCHAR(100),\n",
    "        release_year YEAR(4)\n",
    "    );\n",
    "\"\"\"\n",
    "\n",
    "try:\n",
    "    with connector.connect(\n",
    "        host = 'localhost', \n",
    "        user = 'root', \n",
    "        password = PASSWORD, \n",
    "        database = \"book_ratings\" # 이것이 기존 코드와의 차이점\n",
    "    ) as database:\n",
    "        print(f\"Database 객체 : {database}\")\n",
    "\n",
    "        # cursor object 접근 후, 위 쿼리 실행\n",
    "        with database.cursor() as cursor:\n",
    "            cursor.execute(create_books_table)\n",
    "            database.commit()\n",
    "\n",
    "            # 테이블 확인 DESCRIBE\n",
    "            describe_books = \"DESCRIBE books;\"\n",
    "            cursor.execute(describe_books)\n",
    "            book_schema = cursor.fetchall()\n",
    "            for column in book_schema:\n",
    "                print(column)\n",
    "except connector.Error as e:\n",
    "    print(e)"
   ]
  },
  {
   "cell_type": "markdown",
   "id": "26fb4e70-4e02-4f36-931b-d081229910ed",
   "metadata": {},
   "source": [
    "# Step 4. Data Insertion\n",
    "- 하나의 레코드 추가할 때와 다중 레코드 추가할 때 사용하는 메서드 다름"
   ]
  },
  {
   "cell_type": "code",
   "execution_count": 24,
   "id": "41fbafb1-1b03-44dd-a2df-9a75b684bf73",
   "metadata": {},
   "outputs": [],
   "source": [
    "insert_single_record = \"INSERT INTO books (id, title, author, genre, release_year)\\\n",
    "    VALUES (%s, %s, %s, %s, %s)\"\n",
    "single_record = (\n",
    "    \"1\", \"Choose Yourself! Be Happy, Make Millions, Live the Dream\", \"James Altucher\", \"self-help\", \"2013\"\n",
    "    )"
   ]
  },
  {
   "cell_type": "code",
   "execution_count": 25,
   "id": "0931c414-1841-4b8c-a5a3-428997c336f4",
   "metadata": {},
   "outputs": [
    {
     "name": "stdout",
     "output_type": "stream",
     "text": [
      "Database 객체 : <mysql.connector.connection_cext.CMySQLConnection object at 0x000002A719A22450>\n"
     ]
    }
   ],
   "source": [
    "try:\n",
    "    with connector.connect(\n",
    "        host = 'localhost', \n",
    "        user = 'root', \n",
    "        password = PASSWORD, \n",
    "        database = \"book_ratings\" # 이것이 기존 코드와의 차이점\n",
    "    ) as database:\n",
    "        print(f\"Database 객체 : {database}\")\n",
    "\n",
    "        # 커서 생성 후, 쿼리 실행\n",
    "        with database.cursor() as cursor:\n",
    "            cursor.execute(insert_single_record, single_record)\n",
    "            database.commit()\n",
    "except connector.Error as e:\n",
    "    print(e)"
   ]
  },
  {
   "cell_type": "markdown",
   "id": "1f66665b-f444-4dad-aa9f-7f883191b846",
   "metadata": {},
   "source": [
    "- 다중 레코드를 추가하장"
   ]
  },
  {
   "cell_type": "code",
   "execution_count": 27,
   "id": "6801353d-05f9-498a-8e5f-7a717d2e4290",
   "metadata": {},
   "outputs": [],
   "source": [
    "insert_multiple_records = \"INSERT INTO books (id, title, author, genre, release_year)\\\n",
    "    VALUES (%s, %s, %s, %s, %s)\"\n",
    "multiple_records = [\n",
    "    (\n",
    "        \"2\", \n",
    "        \"Skip the Line: The 10,000 Experiments Rule and Other Surprising Advice for Reaching Your Goals\",\n",
    "        \"James Altucher\",\n",
    "        \"self-help\",\n",
    "        \"2021\"        \n",
    "    ),\n",
    "    (\n",
    "        \"3\",\n",
    "        \"The Power of No: Because One Little Word Can Bring Health, Abundance, and Happiness\",\n",
    "        \"James Altucher\",\n",
    "        \"self-help\",\n",
    "        \"2014\"\n",
    "    ),\n",
    "    (\n",
    "        \"4\",\n",
    "        \"The 48 Laws of Power\",\n",
    "        \"Robert Greene\",\n",
    "        \"self-help\",\n",
    "        \"1998\"\n",
    "    ),\n",
    "    (\n",
    "        \"5\",\n",
    "        \"Mastery\",\n",
    "        \"Robert Greene\",\n",
    "        \"self-help\",\n",
    "        \"2012\"\n",
    "    ),\n",
    "    (\n",
    "        \"6\",\n",
    "        \"The Art of Seduction\",\n",
    "        \"Robert Greene\",\n",
    "        \"self-help\",\n",
    "        \"2001\"\n",
    "    ),\n",
    "]\n"
   ]
  },
  {
   "cell_type": "code",
   "execution_count": 28,
   "id": "05ee9685-4b51-43ca-b416-9687cc17d184",
   "metadata": {},
   "outputs": [
    {
     "name": "stdout",
     "output_type": "stream",
     "text": [
      "Database 객체 : <mysql.connector.connection_cext.CMySQLConnection object at 0x000002A719A3B150>\n"
     ]
    }
   ],
   "source": [
    "try:\n",
    "    with connector.connect(\n",
    "        host = 'localhost', \n",
    "        user = 'root', \n",
    "        password = PASSWORD, \n",
    "        database = \"book_ratings\" # 이것이 기존 코드와의 차이점\n",
    "    ) as database:\n",
    "        print(f\"Database 객체 : {database}\")\n",
    "\n",
    "        # 커서 생성 후, 쿼리 실행\n",
    "        with database.cursor() as cursor:\n",
    "            # cursor.execute(insert_single_record, single_record)\n",
    "            cursor.executemany(insert_multiple_records, multiple_records)\n",
    "            database.commit()\n",
    "except connector.Error as e:\n",
    "    print(e)"
   ]
  },
  {
   "cell_type": "markdown",
   "id": "805652d0-82db-4cfb-b87f-6106a6b9aa1d",
   "metadata": {},
   "source": [
    "# Step 5. Selecting Data"
   ]
  },
  {
   "cell_type": "code",
   "execution_count": 29,
   "id": "cb567829-7985-4078-9d51-6f70817fe140",
   "metadata": {},
   "outputs": [
    {
     "name": "stdout",
     "output_type": "stream",
     "text": [
      "Database 객체 : <mysql.connector.connection_cext.CMySQLConnection object at 0x000002A719A4CCD0>\n",
      "('James Altucher', 2013)\n",
      "('James Altucher', 2021)\n",
      "('James Altucher', 2014)\n",
      "('Robert Greene', 1998)\n",
      "('Robert Greene', 2012)\n",
      "('Robert Greene', 2001)\n"
     ]
    }
   ],
   "source": [
    "try:\n",
    "    with connector.connect(\n",
    "        host = 'localhost', \n",
    "        user = 'root', \n",
    "        password = PASSWORD, \n",
    "        database = \"book_ratings\" # 이것이 기존 코드와의 차이점\n",
    "    ) as database:\n",
    "        print(f\"Database 객체 : {database}\")\n",
    "\n",
    "        # 커서 생성 후, 쿼리 실행\n",
    "        with database.cursor() as cursor:\n",
    "            \n",
    "            # 쿼리문 작성\n",
    "            select_cols = \"SELECT author, release_year FROM books;\"\n",
    "            cursor.execute(select_cols)\n",
    "\n",
    "            # 데이터 확인\n",
    "            df = cursor.fetchall()\n",
    "            for result in df:\n",
    "                print(result)\n",
    "            \n",
    "except connector.Error as e:\n",
    "    print(e)"
   ]
  },
  {
   "cell_type": "markdown",
   "id": "6f81a296-285f-4815-9a7a-0cb2c0fab7be",
   "metadata": {},
   "source": [
    "# SELECT 사용자 정의 함수 만들기\n",
    "- 어떤 테이블을 조회해도 깔끔하게 데이터프레임으로 만드는 함수를 만드시고,\n",
    "- 테스트를 해주세요"
   ]
  },
  {
   "cell_type": "code",
   "execution_count": 31,
   "id": "f599aa79-ffed-4b14-9fbe-e5106437fb94",
   "metadata": {},
   "outputs": [
    {
     "name": "stdout",
     "output_type": "stream",
     "text": [
      "DataFrame with specific columns:\n",
      "           author  release_year\n",
      "0  James Altucher          2013\n",
      "1  James Altucher          2021\n",
      "2  James Altucher          2014\n",
      "3   Robert Greene          1998\n",
      "4   Robert Greene          2012\n",
      "5   Robert Greene          2001\n"
     ]
    }
   ],
   "source": [
    "import pandas as pd\n",
    "\n",
    "# Function to fetch data from database and return as pandas DataFrame\n",
    "def fetch_data_to_dataframe(query, database=None):\n",
    "    try: \n",
    "        # Connect to existing database\n",
    "        with connector.connect(\n",
    "            host=\"localhost\",\n",
    "            user=\"root\",\n",
    "            password=PASSWORD,\n",
    "            database=database\n",
    "        ) as existing_database:\n",
    "            \n",
    "            with existing_database.cursor() as cursor:\n",
    "                cursor.execute(query)\n",
    "                \n",
    "                column_names = [i[0] for i in cursor.description] # List Comprehension\n",
    "                \n",
    "                returned_data = cursor.fetchall()\n",
    "                \n",
    "                df = pd.DataFrame(returned_data, columns=column_names)\n",
    "                return df\n",
    "    \n",
    "    except connector.Error as e: \n",
    "        print(e)\n",
    "        return None\n",
    "\n",
    "\n",
    "query_specific_cols = \"SELECT author, release_year FROM books\"\n",
    "df_specific_cols = fetch_data_to_dataframe(query_specific_cols, \"book_ratings\")\n",
    "if df_specific_cols is not None:\n",
    "    print(\"DataFrame with specific columns:\")\n",
    "    print(df_specific_cols)"
   ]
  },
  {
   "cell_type": "code",
   "execution_count": 33,
   "id": "17fbdcef-0972-4780-8edf-6cd6d4220869",
   "metadata": {},
   "outputs": [
    {
     "name": "stdout",
     "output_type": "stream",
     "text": [
      "DataFrame with all columns:\n",
      "   id                                              title          author  \\\n",
      "0   1  Choose Yourself! Be Happy, Make Millions, Live...  James Altucher   \n",
      "1   2  Skip the Line: The 10,000 Experiments Rule and...  James Altucher   \n",
      "2   3  The Power of No: Because One Little Word Can B...  James Altucher   \n",
      "3   4                               The 48 Laws of Power   Robert Greene   \n",
      "4   5                                            Mastery   Robert Greene   \n",
      "5   6                               The Art of Seduction   Robert Greene   \n",
      "\n",
      "       genre  release_year  \n",
      "0  self-help          2013  \n",
      "1  self-help          2021  \n",
      "2  self-help          2014  \n",
      "3  self-help          1998  \n",
      "4  self-help          2012  \n",
      "5  self-help          2001  \n"
     ]
    }
   ],
   "source": [
    "query_all_cols = \"SELECT * FROM books\"\n",
    "df_all_cols = fetch_data_to_dataframe(query_all_cols, \"book_ratings\")\n",
    "if df_all_cols is not None:\n",
    "    print(\"DataFrame with all columns:\")\n",
    "    print(df_all_cols)"
   ]
  },
  {
   "cell_type": "code",
   "execution_count": 38,
   "id": "9aa48f69-5c3d-47ef-aa4b-9831eda20c24",
   "metadata": {},
   "outputs": [
    {
     "data": {
      "text/html": [
       "<div>\n",
       "<style scoped>\n",
       "    .dataframe tbody tr th:only-of-type {\n",
       "        vertical-align: middle;\n",
       "    }\n",
       "\n",
       "    .dataframe tbody tr th {\n",
       "        vertical-align: top;\n",
       "    }\n",
       "\n",
       "    .dataframe thead th {\n",
       "        text-align: right;\n",
       "    }\n",
       "</style>\n",
       "<table border=\"1\" class=\"dataframe\">\n",
       "  <thead>\n",
       "    <tr style=\"text-align: right;\">\n",
       "      <th></th>\n",
       "      <th>ClothingID</th>\n",
       "      <th>Age</th>\n",
       "      <th>Title</th>\n",
       "      <th>Review Text</th>\n",
       "      <th>Rating</th>\n",
       "      <th>Recommended IND</th>\n",
       "      <th>Positive Feedback Count</th>\n",
       "      <th>Division Name</th>\n",
       "      <th>Department Name</th>\n",
       "      <th>Class Name</th>\n",
       "    </tr>\n",
       "  </thead>\n",
       "  <tbody>\n",
       "    <tr>\n",
       "      <th>0</th>\n",
       "      <td>767</td>\n",
       "      <td>33</td>\n",
       "      <td></td>\n",
       "      <td>Absolutely wonderful - silky and sexy and comf...</td>\n",
       "      <td>4</td>\n",
       "      <td>1</td>\n",
       "      <td>0</td>\n",
       "      <td>Initmates</td>\n",
       "      <td>Intimate</td>\n",
       "      <td>Intimates</td>\n",
       "    </tr>\n",
       "    <tr>\n",
       "      <th>1</th>\n",
       "      <td>1080</td>\n",
       "      <td>34</td>\n",
       "      <td></td>\n",
       "      <td>Love this dress!  it's sooo pretty.  i happene...</td>\n",
       "      <td>5</td>\n",
       "      <td>1</td>\n",
       "      <td>4</td>\n",
       "      <td>General</td>\n",
       "      <td>Dresses</td>\n",
       "      <td>Dresses</td>\n",
       "    </tr>\n",
       "    <tr>\n",
       "      <th>2</th>\n",
       "      <td>1077</td>\n",
       "      <td>60</td>\n",
       "      <td>Some major design flaws</td>\n",
       "      <td>I had such high hopes for this dress and reall...</td>\n",
       "      <td>3</td>\n",
       "      <td>0</td>\n",
       "      <td>0</td>\n",
       "      <td>General</td>\n",
       "      <td>Dresses</td>\n",
       "      <td>Dresses</td>\n",
       "    </tr>\n",
       "    <tr>\n",
       "      <th>3</th>\n",
       "      <td>1049</td>\n",
       "      <td>50</td>\n",
       "      <td>My favorite buy!</td>\n",
       "      <td>I love, love, love this jumpsuit. it's fun, fl...</td>\n",
       "      <td>5</td>\n",
       "      <td>1</td>\n",
       "      <td>0</td>\n",
       "      <td>General Petite</td>\n",
       "      <td>Bottoms</td>\n",
       "      <td>Pants</td>\n",
       "    </tr>\n",
       "    <tr>\n",
       "      <th>4</th>\n",
       "      <td>847</td>\n",
       "      <td>47</td>\n",
       "      <td>Flattering shirt</td>\n",
       "      <td>This shirt is very flattering to all due to th...</td>\n",
       "      <td>5</td>\n",
       "      <td>1</td>\n",
       "      <td>6</td>\n",
       "      <td>General</td>\n",
       "      <td>Tops</td>\n",
       "      <td>Blouses</td>\n",
       "    </tr>\n",
       "    <tr>\n",
       "      <th>...</th>\n",
       "      <td>...</td>\n",
       "      <td>...</td>\n",
       "      <td>...</td>\n",
       "      <td>...</td>\n",
       "      <td>...</td>\n",
       "      <td>...</td>\n",
       "      <td>...</td>\n",
       "      <td>...</td>\n",
       "      <td>...</td>\n",
       "      <td>...</td>\n",
       "    </tr>\n",
       "    <tr>\n",
       "      <th>20598</th>\n",
       "      <td>1104</td>\n",
       "      <td>34</td>\n",
       "      <td>Great dress for many occasions</td>\n",
       "      <td>I was very happy to snag this dress at such a ...</td>\n",
       "      <td>5</td>\n",
       "      <td>1</td>\n",
       "      <td>0</td>\n",
       "      <td>General Petite</td>\n",
       "      <td>Dresses</td>\n",
       "      <td>Dresses</td>\n",
       "    </tr>\n",
       "    <tr>\n",
       "      <th>20599</th>\n",
       "      <td>862</td>\n",
       "      <td>48</td>\n",
       "      <td>Wish it was made of cotton</td>\n",
       "      <td>It reminds me of maternity clothes. soft, stre...</td>\n",
       "      <td>3</td>\n",
       "      <td>1</td>\n",
       "      <td>0</td>\n",
       "      <td>General Petite</td>\n",
       "      <td>Tops</td>\n",
       "      <td>Knits</td>\n",
       "    </tr>\n",
       "    <tr>\n",
       "      <th>20600</th>\n",
       "      <td>1104</td>\n",
       "      <td>31</td>\n",
       "      <td>Cute, but see through</td>\n",
       "      <td>This fit well, but the top was very see throug...</td>\n",
       "      <td>3</td>\n",
       "      <td>0</td>\n",
       "      <td>1</td>\n",
       "      <td>General Petite</td>\n",
       "      <td>Dresses</td>\n",
       "      <td>Dresses</td>\n",
       "    </tr>\n",
       "    <tr>\n",
       "      <th>20601</th>\n",
       "      <td>1084</td>\n",
       "      <td>28</td>\n",
       "      <td>Very cute dress, perfect for summer parties an...</td>\n",
       "      <td>I bought this dress for a wedding i have this ...</td>\n",
       "      <td>3</td>\n",
       "      <td>1</td>\n",
       "      <td>2</td>\n",
       "      <td>General</td>\n",
       "      <td>Dresses</td>\n",
       "      <td>Dresses</td>\n",
       "    </tr>\n",
       "    <tr>\n",
       "      <th>20602</th>\n",
       "      <td>1104</td>\n",
       "      <td>52</td>\n",
       "      <td>Please make more like this one!</td>\n",
       "      <td>This dress in a lovely platinum is feminine an...</td>\n",
       "      <td>5</td>\n",
       "      <td>1</td>\n",
       "      <td>22</td>\n",
       "      <td>General Petite</td>\n",
       "      <td>Dresses</td>\n",
       "      <td>Dresses</td>\n",
       "    </tr>\n",
       "  </tbody>\n",
       "</table>\n",
       "<p>20603 rows × 10 columns</p>\n",
       "</div>"
      ],
      "text/plain": [
       "       ClothingID  Age                                              Title  \\\n",
       "0             767   33                                                      \n",
       "1            1080   34                                                      \n",
       "2            1077   60                            Some major design flaws   \n",
       "3            1049   50                                   My favorite buy!   \n",
       "4             847   47                                   Flattering shirt   \n",
       "...           ...  ...                                                ...   \n",
       "20598        1104   34                     Great dress for many occasions   \n",
       "20599         862   48                         Wish it was made of cotton   \n",
       "20600        1104   31                              Cute, but see through   \n",
       "20601        1084   28  Very cute dress, perfect for summer parties an...   \n",
       "20602        1104   52                    Please make more like this one!   \n",
       "\n",
       "                                             Review Text  Rating  \\\n",
       "0      Absolutely wonderful - silky and sexy and comf...       4   \n",
       "1      Love this dress!  it's sooo pretty.  i happene...       5   \n",
       "2      I had such high hopes for this dress and reall...       3   \n",
       "3      I love, love, love this jumpsuit. it's fun, fl...       5   \n",
       "4      This shirt is very flattering to all due to th...       5   \n",
       "...                                                  ...     ...   \n",
       "20598  I was very happy to snag this dress at such a ...       5   \n",
       "20599  It reminds me of maternity clothes. soft, stre...       3   \n",
       "20600  This fit well, but the top was very see throug...       3   \n",
       "20601  I bought this dress for a wedding i have this ...       3   \n",
       "20602  This dress in a lovely platinum is feminine an...       5   \n",
       "\n",
       "       Recommended IND  Positive Feedback Count   Division Name  \\\n",
       "0                    1                        0       Initmates   \n",
       "1                    1                        4         General   \n",
       "2                    0                        0         General   \n",
       "3                    1                        0  General Petite   \n",
       "4                    1                        6         General   \n",
       "...                ...                      ...             ...   \n",
       "20598                1                        0  General Petite   \n",
       "20599                1                        0  General Petite   \n",
       "20600                0                        1  General Petite   \n",
       "20601                1                        2         General   \n",
       "20602                1                       22  General Petite   \n",
       "\n",
       "      Department Name Class Name  \n",
       "0            Intimate  Intimates  \n",
       "1             Dresses    Dresses  \n",
       "2             Dresses    Dresses  \n",
       "3             Bottoms      Pants  \n",
       "4                Tops    Blouses  \n",
       "...               ...        ...  \n",
       "20598         Dresses    Dresses  \n",
       "20599            Tops      Knits  \n",
       "20600         Dresses    Dresses  \n",
       "20601         Dresses    Dresses  \n",
       "20602         Dresses    Dresses  \n",
       "\n",
       "[20603 rows x 10 columns]"
      ]
     },
     "execution_count": 38,
     "metadata": {},
     "output_type": "execute_result"
    }
   ],
   "source": [
    "query_all_cols = \"SELECT * FROM dataset2\"\n",
    "DATABASE = \"mydata\"\n",
    "df_all_cols = fetch_data_to_dataframe(query_all_cols, DATABASE)\n",
    "df_all_cols"
   ]
  },
  {
   "cell_type": "markdown",
   "id": "1c50868b-3dee-4625-a9fd-0ec102aa0cfd",
   "metadata": {},
   "source": [
    "# Step 6. Update and Delete\n",
    "- "
   ]
  },
  {
   "cell_type": "code",
   "execution_count": 40,
   "id": "5a313852-12a0-402d-9cef-47cc52a24d67",
   "metadata": {},
   "outputs": [
    {
     "name": "stdout",
     "output_type": "stream",
     "text": [
      "Database 객체 : <mysql.connector.connection_cext.CMySQLConnection object at 0x000002A719426510>\n",
      "('Big J',)\n",
      "('Robert Greene',)\n"
     ]
    }
   ],
   "source": [
    "update_query = \"\"\"\n",
    "    UPDATE \n",
    "        books\n",
    "    SET \n",
    "        author = 'Big J'\n",
    "    WHERE \n",
    "        author = 'James Altucher'\n",
    "\"\"\"\n",
    "\n",
    "try:\n",
    "    with connector.connect(\n",
    "        host = 'localhost', \n",
    "        user = 'root', \n",
    "        password = PASSWORD, \n",
    "        database = \"book_ratings\" # 이것이 기존 코드와의 차이점\n",
    "    ) as database:\n",
    "        print(f\"Database 객체 : {database}\")\n",
    "\n",
    "        # 커서 생성 후, 쿼리 실행\n",
    "        with database.cursor() as cursor:\n",
    "            cursor.execute(update_query)\n",
    "            database.commit()\n",
    "\n",
    "            check_query = \"SELECT DISTINCT author FROM books\"\n",
    "            cursor.execute(check_query)\n",
    "\n",
    "            for result in cursor.fetchall():\n",
    "                print(result)\n",
    "            \n",
    "except connector.Error as e:\n",
    "    print(e)"
   ]
  },
  {
   "cell_type": "markdown",
   "id": "be031ad3-ee37-4250-b22d-110f83d1732c",
   "metadata": {},
   "source": [
    "# Step 7. Delete Records"
   ]
  },
  {
   "cell_type": "code",
   "execution_count": 42,
   "id": "73bab076-313d-4819-89ba-7dd150df80a7",
   "metadata": {},
   "outputs": [
    {
     "name": "stdout",
     "output_type": "stream",
     "text": [
      "Database 객체 : <mysql.connector.connection_cext.CMySQLConnection object at 0x000002A7199F2750>\n",
      "(2013,)\n",
      "(2021,)\n",
      "(2014,)\n",
      "(2012,)\n"
     ]
    }
   ],
   "source": [
    "try:\n",
    "    with connector.connect(\n",
    "        host = 'localhost', \n",
    "        user = 'root', \n",
    "        password = PASSWORD, \n",
    "        database = \"book_ratings\" # 이것이 기존 코드와의 차이점\n",
    "    ) as database:\n",
    "        print(f\"Database 객체 : {database}\")\n",
    "\n",
    "        # 커서 생성 후, 쿼리 실행\n",
    "        with database.cursor() as cursor:\n",
    "\n",
    "            delete_query = \"DELETE FROM books WHERE release_year <= 2010;\"\n",
    "            cursor.execute(delete_query)\n",
    "            database.commit()\n",
    "\n",
    "            check_query = \"SELECT DISTINCT release_year FROM books;\"\n",
    "            cursor.execute(check_query)\n",
    "            for result in cursor.fetchall():\n",
    "                print(result)\n",
    "            \n",
    "except connector.Error as e:\n",
    "    print(e)"
   ]
  }
 ],
 "metadata": {
  "kernelspec": {
   "display_name": "Python 3 (ipykernel)",
   "language": "python",
   "name": "python3"
  },
  "language_info": {
   "codemirror_mode": {
    "name": "ipython",
    "version": 3
   },
   "file_extension": ".py",
   "mimetype": "text/x-python",
   "name": "python",
   "nbconvert_exporter": "python",
   "pygments_lexer": "ipython3",
   "version": "3.11.7"
  }
 },
 "nbformat": 4,
 "nbformat_minor": 5
}
