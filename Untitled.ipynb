{
 "cells": [
  {
   "cell_type": "markdown",
   "id": "b9b0445d-9c85-493b-9635-a03982f8412a",
   "metadata": {},
   "source": [
    "# BD연동 \n",
    "- DB연동 하는 것은 에러가 없어야 함\n",
    "- 해당 코드는 무조건 돌아가게끔 만들어야함\n",
    "- MySQL에 문제가 생김\n",
    "  + 대처방안 : try-catch 구문\n",
    "  "
   ]
  },
  {
   "cell_type": "code",
   "execution_count": null,
   "id": "130f8017-b4bb-4799-b68e-fea9011eed18",
   "metadata": {},
   "outputs": [],
   "source": []
  },
  {
   "cell_type": "code",
   "execution_count": 1,
   "id": "19d387fa-e630-449c-9857-6f26e94dd612",
   "metadata": {},
   "outputs": [
    {
     "ename": "ZeroDivisionError",
     "evalue": "division by zero",
     "output_type": "error",
     "traceback": [
      "\u001b[1;31m---------------------------------------------------------------------------\u001b[0m",
      "\u001b[1;31mZeroDivisionError\u001b[0m                         Traceback (most recent call last)",
      "Cell \u001b[1;32mIn[1], line 4\u001b[0m\n\u001b[0;32m      1\u001b[0m numerator \u001b[38;5;241m=\u001b[39m \u001b[38;5;241m10\u001b[39m\n\u001b[0;32m      2\u001b[0m denominator \u001b[38;5;241m=\u001b[39m \u001b[38;5;241m0\u001b[39m\n\u001b[1;32m----> 4\u001b[0m result \u001b[38;5;241m=\u001b[39m \u001b[43mnumerator\u001b[49m\u001b[43m \u001b[49m\u001b[38;5;241;43m/\u001b[39;49m\u001b[43m \u001b[49m\u001b[43mdenominator\u001b[49m\n\u001b[0;32m      6\u001b[0m \u001b[38;5;66;03m#하고싶은 것은 결화확인 출력을 꼭 하고 싶음, 어떤일이 있어도\u001b[39;00m\n\u001b[0;32m      7\u001b[0m \u001b[38;5;28mprint\u001b[39m(\u001b[38;5;124m\"\u001b[39m\u001b[38;5;124m결과확인\u001b[39m\u001b[38;5;124m\"\u001b[39m)\n",
      "\u001b[1;31mZeroDivisionError\u001b[0m: division by zero"
     ]
    }
   ],
   "source": [
    "numerator = 10\n",
    "denominator = 0\n",
    "\n",
    "result = numerator / denominator\n",
    "\n",
    "#하고싶은 것은 결화확인 출력을 꼭 하고 싶음, 어떤일이 있어도\n",
    "print(\"결과확인\")"
   ]
  },
  {
   "cell_type": "code",
   "execution_count": 2,
   "id": "29f4d425-4630-4d13-8eaf-565a4477c0d4",
   "metadata": {},
   "outputs": [
    {
     "name": "stdout",
     "output_type": "stream",
     "text": [
      "Error : 0으로 나눌 수 없음\n",
      "결과확인\n"
     ]
    }
   ],
   "source": [
    "try :\n",
    "    numerator = 10\n",
    "    denominator = 0\n",
    "    \n",
    "    result = numerator / denominator\n",
    "except ZeroDivisionError:\n",
    "    print(\"Error : 0으로 나눌 수 없음\")\n",
    "else:\n",
    "    print(\"결과확인 : \",result)\n",
    "finally:\n",
    "    print(\"결과확인\")"
   ]
  },
  {
   "cell_type": "code",
   "execution_count": 4,
   "id": "1a2994d4-597d-4cfb-ac5d-2d62f503c8a9",
   "metadata": {},
   "outputs": [
    {
     "name": "stdin",
     "output_type": "stream",
     "text": [
      "숫자를 입력하세요!! aaa\n"
     ]
    },
    {
     "name": "stdout",
     "output_type": "stream",
     "text": [
      "Error : invalid literal for int() with\n",
      "결과확인\n"
     ]
    }
   ],
   "source": [
    "try :\n",
    "    numerator = 10\n",
    "    denominator = int(input(\"숫자를 입력하세요!!\"))\n",
    "    \n",
    "    result = numerator / denominator\n",
    "except ZeroDivisionError:\n",
    "    print(\"Error : 0으로 나눌 수 없음\")\n",
    "except ValueError:\n",
    "    print(\"Error : invalid literal for int() with\")\n",
    "else:\n",
    "    print(\"결과확인 : \",result)\n",
    "finally:\n",
    "    print(\"결과확인\")"
   ]
  }
 ],
 "metadata": {
  "kernelspec": {
   "display_name": "Python 3 (ipykernel)",
   "language": "python",
   "name": "python3"
  },
  "language_info": {
   "codemirror_mode": {
    "name": "ipython",
    "version": 3
   },
   "file_extension": ".py",
   "mimetype": "text/x-python",
   "name": "python",
   "nbconvert_exporter": "python",
   "pygments_lexer": "ipython3",
   "version": "3.11.7"
  }
 },
 "nbformat": 4,
 "nbformat_minor": 5
}
